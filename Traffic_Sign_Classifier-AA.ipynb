{
 "cells": [
  {
   "cell_type": "markdown",
   "metadata": {},
   "source": [
    "# Self-Driving Car Engineer Nanodegree\n",
    "\n",
    "## Deep Learning\n",
    "\n",
    "## Project: Build a Traffic Sign Recognition Classifier\n",
    "\n",
    "In this notebook, a template is provided for you to implement your functionality in stages, which is required to successfully complete this project. If additional code is required that cannot be included in the notebook, be sure that the Python code is successfully imported and included in your submission if necessary. \n",
    "\n",
    "> **Note**: Once you have completed all of the code implementations, you need to finalize your work by exporting the iPython Notebook as an HTML document. Before exporting the notebook to html, all of the code cells need to have been run so that reviewers can see the final implementation and output. You can then export the notebook by using the menu above and navigating to  \\n\",\n",
    "    \"**File -> Download as -> HTML (.html)**. Include the finished document along with this notebook as your submission. \n",
    "\n",
    "In addition to implementing code, there is a writeup to complete. The writeup should be completed in a separate file, which can be either a markdown file or a pdf document. There is a [write up template](https://github.com/udacity/CarND-Traffic-Sign-Classifier-Project/blob/master/writeup_template.md) that can be used to guide the writing process. Completing the code template and writeup template will cover all of the [rubric points](https://review.udacity.com/#!/rubrics/481/view) for this project.\n",
    "\n",
    "The [rubric](https://review.udacity.com/#!/rubrics/481/view) contains \"Stand Out Suggestions\" for enhancing the project beyond the minimum requirements. The stand out suggestions are optional. If you decide to pursue the \"stand out suggestions\", you can include the code in this Ipython notebook and also discuss the results in the writeup file.\n",
    "\n",
    "\n",
    ">**Note:** Code and Markdown cells can be executed using the **Shift + Enter** keyboard shortcut. In addition, Markdown cells can be edited by typically double-clicking the cell to enter edit mode."
   ]
  },
  {
   "cell_type": "markdown",
   "metadata": {},
   "source": [
    "---\n",
    "## Step 0: Load The Data"
   ]
  },
  {
   "cell_type": "code",
   "execution_count": 2,
   "metadata": {},
   "outputs": [],
   "source": [
    "# Load pickled data\n",
    "import pickle\n",
    "\n",
    "# TODO: Fill this in based on where you saved the training and testing data\n",
    "\n",
    "training_file = \"data/train.p\"\n",
    "validation_file=\"data/valid.p\"\n",
    "testing_file = \"data/test.p\"\n",
    "data_path = \"data\"\n",
    "\n",
    "with open(training_file, mode='rb') as f:\n",
    "    train = pickle.load(f)\n",
    "with open(validation_file, mode='rb') as f:\n",
    "    valid = pickle.load(f)\n",
    "with open(testing_file, mode='rb') as f:\n",
    "    test = pickle.load(f)\n",
    "    \n",
    "X_train, y_train = train['features'], train['labels']\n",
    "X_valid, y_valid = valid['features'], valid['labels']\n",
    "X_test, y_test = test['features'], test['labels']"
   ]
  },
  {
   "cell_type": "markdown",
   "metadata": {},
   "source": [
    "---\n",
    "\n",
    "## Step 1: Dataset Summary & Exploration\n",
    "\n",
    "The pickled data is a dictionary with 4 key/value pairs:\n",
    "\n",
    "- `'features'` is a 4D array containing raw pixel data of the traffic sign images, (num examples, width, height, channels).\n",
    "- `'labels'` is a 1D array containing the label/class id of the traffic sign. The file `signnames.csv` contains id -> name mappings for each id.\n",
    "- `'sizes'` is a list containing tuples, (width, height) representing the original width and height the image.\n",
    "- `'coords'` is a list containing tuples, (x1, y1, x2, y2) representing coordinates of a bounding box around the sign in the image. **THESE COORDINATES ASSUME THE ORIGINAL IMAGE. THE PICKLED DATA CONTAINS RESIZED VERSIONS (32 by 32) OF THESE IMAGES**\n",
    "\n",
    "Complete the basic data summary below. Use python, numpy and/or pandas methods to calculate the data summary rather than hard coding the results. For example, the [pandas shape method](http://pandas.pydata.org/pandas-docs/stable/generated/pandas.DataFrame.shape.html) might be useful for calculating some of the summary results. "
   ]
  },
  {
   "cell_type": "markdown",
   "metadata": {},
   "source": [
    "### Provide a Basic Summary of the Data Set Using Python, Numpy and/or Pandas"
   ]
  },
  {
   "cell_type": "code",
   "execution_count": 3,
   "metadata": {},
   "outputs": [
    {
     "name": "stdout",
     "output_type": "stream",
     "text": [
      "Number of training examples = 34799\n",
      "Number of validation examples = 4410\n",
      "Number of testing examples = 12630\n",
      "Image data shape = (32, 32, 3)\n",
      "Number of classes = 43\n"
     ]
    }
   ],
   "source": [
    "### Replace each question mark with the appropriate value. \n",
    "### Use python, pandas or numpy methods rather than hard coding the results\n",
    "\n",
    "# TODO: Number of training examples\n",
    "n_train = y_train.shape[0]\n",
    "\n",
    "# TODO: Number of validation examples\n",
    "n_validation = y_valid.shape[0]\n",
    "\n",
    "# TODO: Number of testing examples.\n",
    "n_test = y_test.shape[0]\n",
    "\n",
    "# TODO: What's the shape of an traffic sign image?\n",
    "image_shape = X_train[0].shape\n",
    "\n",
    "# TODO: How many unique classes/labels there are in the dataset.\n",
    "classes = set(y_train)\n",
    "n_classes = len(classes)\n",
    "\n",
    "print(\"Number of training examples =\", n_train)\n",
    "print(\"Number of validation examples =\", n_validation)\n",
    "print(\"Number of testing examples =\", n_test)\n",
    "print(\"Image data shape =\", image_shape)\n",
    "print(\"Number of classes =\", n_classes)"
   ]
  },
  {
   "cell_type": "markdown",
   "metadata": {},
   "source": [
    "### Include an exploratory visualization of the dataset"
   ]
  },
  {
   "cell_type": "markdown",
   "metadata": {},
   "source": [
    "Visualize the German Traffic Signs Dataset using the pickled file(s). This is open ended, suggestions include: plotting traffic sign images, plotting the count of each sign, etc. \n",
    "\n",
    "The [Matplotlib](http://matplotlib.org/) [examples](http://matplotlib.org/examples/index.html) and [gallery](http://matplotlib.org/gallery.html) pages are a great resource for doing visualizations in Python.\n",
    "\n",
    "**NOTE:** It's recommended you start with something simple first. If you wish to do more, come back to it after you've completed the rest of the sections. It can be interesting to look at the distribution of classes in the training, validation and test set. Is the distribution the same? Are there more examples of some classes than others?"
   ]
  },
  {
   "cell_type": "code",
   "execution_count": 4,
   "metadata": {},
   "outputs": [
    {
     "name": "stdout",
     "output_type": "stream",
     "text": [
      "Label = 26\n"
     ]
    },
    {
     "data": {
      "text/plain": [
       "<matplotlib.image.AxesImage at 0x7f49f40896d8>"
      ]
     },
     "execution_count": 4,
     "metadata": {},
     "output_type": "execute_result"
    },
    {
     "data": {
      "image/png": "[encoded data removed]",
      "text/plain": [
       "<matplotlib.figure.Figure at 0x7f4a18382be0>"
      ]
     },
     "metadata": {},
     "output_type": "display_data"
    }
   ],
   "source": [
    "### Data exploration visualization code goes here.\n",
    "### Feel free to use as many code cells as needed.\n",
    "import matplotlib.pyplot as plt\n",
    "# Visualizations will be shown in the notebook.\n",
    "%matplotlib inline\n",
    "n=1510\n",
    "img1 = X_train[n]\n",
    "print('Label =',  y_train[n])\n",
    "plt.imshow(img1)"
   ]
  },
  {
   "cell_type": "code",
   "execution_count": 5,
   "metadata": {},
   "outputs": [
    {
     "data": {
      "text/plain": [
       "(array([  180.,  1980.,  2010.,  1260.,  1770.,  1650.,   360.,  1290.,\n",
       "         1260.,  1320.,  1800.,  1170.,  1890.,  1920.,   690.,   540.,\n",
       "          360.,   990.,  1080.,   180.,   300.,   270.,   330.,   450.,\n",
       "          240.,  1350.,   540.,   210.,   480.,   240.,   390.,   690.,\n",
       "          210.,   599.,   360.,  1080.,   330.,   180.,  1860.,   270.,\n",
       "          300.,   210.,   210.]),\n",
       " array([  0.        ,   0.97674419,   1.95348837,   2.93023256,\n",
       "          3.90697674,   4.88372093,   5.86046512,   6.8372093 ,\n",
       "          7.81395349,   8.79069767,   9.76744186,  10.74418605,\n",
       "         11.72093023,  12.69767442,  13.6744186 ,  14.65116279,\n",
       "         15.62790698,  16.60465116,  17.58139535,  18.55813953,\n",
       "         19.53488372,  20.51162791,  21.48837209,  22.46511628,\n",
       "         23.44186047,  24.41860465,  25.39534884,  26.37209302,\n",
       "         27.34883721,  28.3255814 ,  29.30232558,  30.27906977,\n",
       "         31.25581395,  32.23255814,  33.20930233,  34.18604651,\n",
       "         35.1627907 ,  36.13953488,  37.11627907,  38.09302326,\n",
       "         39.06976744,  40.04651163,  41.02325581,  42.        ]),\n",
       " <a list of 43 Patch objects>)"
      ]
     },
     "execution_count": 5,
     "metadata": {},
     "output_type": "execute_result"
    },
    {
     "data": {
      "image/png": "[encoded data removed]",
      "text/plain": [
       "<matplotlib.figure.Figure at 0x7f49f40ce518>"
      ]
     },
     "metadata": {},
     "output_type": "display_data"
    }
   ],
   "source": [
    "import matplotlib.pyplot as plt\n",
    "%matplotlib inline\n",
    "\n",
    "# A histogram of the distribution of classes in the training data \n",
    "plt.hist(y_train, bins = n_classes)"
   ]
  },
  {
   "cell_type": "markdown",
   "metadata": {},
   "source": [
    "----\n",
    "\n",
    "## Step 2: Design and Test a Model Architecture\n",
    "\n",
    "Design and implement a deep learning model that learns to recognize traffic signs. Train and test your model on the [German Traffic Sign Dataset](http://benchmark.ini.rub.de/?section=gtsrb&subsection=dataset).\n",
    "\n",
    "The LeNet-5 implementation shown in the [classroom](https://classroom.udacity.com/nanodegrees/nd013/parts/fbf77062-5703-404e-b60c-95b78b2f3f9e/modules/6df7ae49-c61c-4bb2-a23e-6527e69209ec/lessons/601ae704-1035-4287-8b11-e2c2716217ad/concepts/d4aca031-508f-4e0b-b493-e7b706120f81) at the end of the CNN lesson is a solid starting point. You'll have to change the number of classes and possibly the preprocessing, but aside from that it's plug and play! \n",
    "\n",
    "With the LeNet-5 solution from the lecture, you should expect a validation set accuracy of about 0.89. To meet specifications, the validation set accuracy will need to be at least 0.93. It is possible to get an even higher accuracy, but 0.93 is the minimum for a successful project submission. \n",
    "\n",
    "There are various aspects to consider when thinking about this problem:\n",
    "\n",
    "- Neural network architecture (is the network over or underfitting?)\n",
    "- Play around preprocessing techniques (normalization, rgb to grayscale, etc)\n",
    "- Number of examples per label (some have more than others).\n",
    "- Generate fake data.\n",
    "\n",
    "Here is an example of a [published baseline model on this problem](http://yann.lecun.com/exdb/publis/pdf/sermanet-ijcnn-11.pdf). It's not required to be familiar with the approach used in the paper but, it's good practice to try to read papers like these."
   ]
  },
  {
   "cell_type": "markdown",
   "metadata": {},
   "source": [
    "### Pre-process the Data Set (normalization, grayscale, etc.)"
   ]
  },
  {
   "cell_type": "markdown",
   "metadata": {},
   "source": [
    "Minimally, the image data should be normalized so that the data has mean zero and equal variance. For image data, `(pixel - 128)/ 128` is a quick way to approximately normalize the data and can be used in this project. \n",
    "\n",
    "Other pre-processing steps are optional. You can try different techniques to see if it improves performance. \n",
    "\n",
    "Use the code cell (or multiple code cells, if necessary) to implement the first step of your project."
   ]
  },
  {
   "cell_type": "code",
   "execution_count": 6,
   "metadata": {
    "collapsed": true
   },
   "outputs": [],
   "source": [
    "### Preprocess the data here. It is required to normalize the data. Other preprocessing steps could include \n",
    "### converting to grayscale, etc.\n",
    "### Feel free to use as many code cells as needed.\n",
    "\n",
    "import numpy as np\n",
    "\n",
    "def normalize(x):\n",
    "    \"\"\"\n",
    "    Normalize a list of sample image data in the range of 0 to 1\n",
    "    : x: List of image data.  The image shape is (32, 32, 3)\n",
    "    : return: Numpy array of normalize data\n",
    "    \"\"\"\n",
    "    # TODO: Implement Function\n",
    "    #return 1 - (np.max(x) - x)/(np.max(x) - np.min(x))\n",
    "    return (x.astype(float) - 128)/128"
   ]
  },
  {
   "cell_type": "markdown",
   "metadata": {},
   "source": [
    "### Check for GPU"
   ]
  },
  {
   "cell_type": "code",
   "execution_count": 7,
   "metadata": {},
   "outputs": [
    {
     "name": "stdout",
     "output_type": "stream",
     "text": [
      "TensorFlow Version: 1.3.0\n",
      "Default GPU Device: /gpu:0\n"
     ]
    }
   ],
   "source": [
    "from distutils.version import LooseVersion\n",
    "import warnings\n",
    "import tensorflow as tf\n",
    "from tensorflow.python.layers.core import Dense\n",
    "\n",
    "# Check TensorFlow Version\n",
    "assert LooseVersion(tf.__version__) >= LooseVersion('1.1'), 'Please use TensorFlow version 1.1 or newer'\n",
    "print('TensorFlow Version: {}'.format(tf.__version__))\n",
    "\n",
    "# Check for a GPU\n",
    "if not tf.test.gpu_device_name():\n",
    "    warnings.warn('No GPU found. Please use a GPU to train your neural network.')\n",
    "else:\n",
    "    print('Default GPU Device: {}'.format(tf.test.gpu_device_name()))"
   ]
  },
  {
   "cell_type": "markdown",
   "metadata": {},
   "source": [
    "# Pre-process and save data"
   ]
  },
  {
   "cell_type": "code",
   "execution_count": 8,
   "metadata": {
    "collapsed": true
   },
   "outputs": [],
   "source": [
    "data_path = \"data/\"\n",
    "def _preprocess_and_save(normalize, features, labels, filename):\n",
    "    \"\"\"\n",
    "    Preprocess data and save it to file\n",
    "    \"\"\"\n",
    "    features = normalize(features)\n",
    "\n",
    "    pickle.dump((features, labels), open(filename, 'wb'))\n",
    "\n",
    "\n",
    "def preprocess_and_save_data(data_path, normalize):\n",
    "    \"\"\"\n",
    "    Preprocess Training and Validation Data\n",
    "    \"\"\"\n",
    "\n",
    "    # Preprocess and Save all test data\n",
    "    _preprocess_and_save(\n",
    "        normalize,\n",
    "        np.array(X_test),\n",
    "        np.array(y_test),data_path+'preprocessed_test.p')\n",
    "    \n",
    "    # Preprocess and Save all train data\n",
    "    _preprocess_and_save(\n",
    "        normalize,\n",
    "        np.array(X_train),\n",
    "        np.array(y_train),data_path+'preprocessed_train.p')\n",
    "    \n",
    "    # Preprocess and Save all valid data\n",
    "    _preprocess_and_save(\n",
    "        normalize,\n",
    "        np.array(X_valid),\n",
    "        np.array(y_valid),data_path+'preprocessed_valid.p')\n",
    "    \n",
    "preprocess_and_save_data(data_path, normalize)"
   ]
  },
  {
   "cell_type": "markdown",
   "metadata": {},
   "source": [
    "### Model Architecture"
   ]
  },
  {
   "cell_type": "code",
   "execution_count": 9,
   "metadata": {
    "collapsed": true
   },
   "outputs": [],
   "source": [
    "### Define your architecture here.\n",
    "### Feel free to use as many code cells as needed.\n",
    "from tensorflow.contrib.layers import flatten\n",
    "\n",
    "def LeNet(x):    \n",
    "    # Arguments used for tf.truncated_normal, randomly defines variables for the weights and biases for each layer\n",
    "    mu = 0\n",
    "    sigma = 0.1\n",
    "    dropout = 0.7\n",
    "    \n",
    "    # SOLUTION: Layer 1: Convolutional. Input = 32x32x1. Output = 28x28x6.\n",
    "    conv1_W = tf.Variable(tf.truncated_normal(shape=(5, 5, 3, 6), mean = mu, stddev = sigma))\n",
    "    conv1_b = tf.Variable(tf.zeros(6))\n",
    "    conv1   = tf.nn.conv2d(x, conv1_W, strides=[1, 1, 1, 1], padding='VALID') + conv1_b\n",
    "\n",
    "    # SOLUTION: Activation.\n",
    "    conv1 = tf.nn.relu(conv1)\n",
    "\n",
    "    # SOLUTION: Pooling. Input = 28x28x6. Output = 14x14x6.\n",
    "    conv1 = tf.nn.max_pool(conv1, ksize=[1, 2, 2, 1], strides=[1, 2, 2, 1], padding='VALID')\n",
    "\n",
    "    # SOLUTION: Layer 2: Convolutional. Output = 10x10x16.\n",
    "    conv2_W = tf.Variable(tf.truncated_normal(shape=(5, 5, 6, 16), mean = mu, stddev = sigma))\n",
    "    conv2_b = tf.Variable(tf.zeros(16))\n",
    "    conv2   = tf.nn.conv2d(conv1, conv2_W, strides=[1, 1, 1, 1], padding='VALID') + conv2_b\n",
    "    \n",
    "    # SOLUTION: Activation.\n",
    "    conv2 = tf.nn.relu(conv2)\n",
    "\n",
    "    # SOLUTION: Pooling. Input = 10x10x16. Output = 5x5x16.\n",
    "    conv2 = tf.nn.max_pool(conv2, ksize=[1, 2, 2, 1], strides=[1, 2, 2, 1], padding='VALID')\n",
    "\n",
    "    # SOLUTION: Flatten. Input = 5x5x16. Output = 400.\n",
    "    fc0   = flatten(conv2)\n",
    "    \n",
    "    # SOLUTION: Layer 3: Fully Connected. Input = 400. Output = 120.\n",
    "    fc1_W = tf.Variable(tf.truncated_normal(shape=(400, 120), mean = mu, stddev = sigma))\n",
    "    fc1_b = tf.Variable(tf.zeros(120))\n",
    "    fc1   = tf.matmul(fc0, fc1_W) + fc1_b\n",
    "    \n",
    "    # SOLUTION: Activation.\n",
    "    fc1    = tf.nn.relu(fc1)\n",
    "    \n",
    "    # Add dropout\n",
    "    fc1 = tf.nn.dropout(fc1, dropout)\n",
    "\n",
    "    # SOLUTION: Layer 4: Fully Connected. Input = 120. Output = 84.\n",
    "    fc2_W  = tf.Variable(tf.truncated_normal(shape=(120, 84), mean = mu, stddev = sigma))\n",
    "    fc2_b  = tf.Variable(tf.zeros(84))\n",
    "    fc2    = tf.matmul(fc1, fc2_W) + fc2_b\n",
    "    \n",
    "    # SOLUTION: Activation.\n",
    "    fc2    = tf.nn.relu(fc2)\n",
    "    \n",
    "    # Add dropout\n",
    "    fc2 = tf.nn.dropout(fc2, dropout)\n",
    "\n",
    "    # SOLUTION: Layer 5: Fully Connected. Input = 84. Output = 10.\n",
    "    fc3_W  = tf.Variable(tf.truncated_normal(shape=(84, 43), mean = mu, stddev = sigma))\n",
    "    fc3_b  = tf.Variable(tf.zeros(43))\n",
    "    logits = tf.matmul(fc2, fc3_W) + fc3_b\n",
    "    \n",
    "    regularizers = (tf.nn.l2_loss(fc1_W) + tf.nn.l2_loss(fc1_b) + tf.nn.l2_loss(fc2_W) + tf.nn.l2_loss(fc2_b) + tf.nn.l2_loss(fc3_W) + tf.nn.l2_loss(fc3_b))\n",
    "\n",
    "    \n",
    "    return logits,regularizers "
   ]
  },
  {
   "cell_type": "markdown",
   "metadata": {},
   "source": [
    "### Train, Validate and Test the Model"
   ]
  },
  {
   "cell_type": "code",
   "execution_count": 10,
   "metadata": {
    "collapsed": true
   },
   "outputs": [],
   "source": [
    "#Load preproceesed\n",
    "import pickle\n",
    "\n",
    "train_features, train_labels = pickle.load(open(data_path+'preprocessed_train.p', mode='rb'))\n",
    "valid_features, valid_labels = pickle.load(open(data_path+'preprocessed_valid.p', mode='rb'))\n",
    "test_features, test_labels = pickle.load(open(data_path+'preprocessed_test.p', mode='rb'))\n",
    "\n",
    "x = tf.placeholder(tf.float32, (None, 32, 32, 3))\n",
    "y = tf.placeholder(tf.int32, (None))\n",
    "one_hot_y = tf.one_hot(y, n_classes)\n",
    "\n",
    "rate = 0.001\n",
    "factor = 2e-4# Regularization factor\n",
    "\n",
    "logits, regularizers = LeNet(x)\n",
    "\n",
    "cross_entropy = tf.nn.softmax_cross_entropy_with_logits(labels= one_hot_y, logits=logits)\n",
    "loss_operation = tf.reduce_mean(cross_entropy)\n",
    "optimizer = tf.train.AdamOptimizer(learning_rate = rate)\n",
    "\n",
    "loss_operation += factor * regularizers\n",
    "\n",
    "\n",
    "training_operation = optimizer.minimize(loss_operation)\n",
    "\n",
    "\n"
   ]
  },
  {
   "cell_type": "markdown",
   "metadata": {},
   "source": [
    "A validation set can be used to assess how well the model is performing. A low accuracy on the training and validation\n",
    "sets imply underfitting. A high accuracy on the training set but low accuracy on the validation set implies overfitting."
   ]
  },
  {
   "cell_type": "code",
   "execution_count": 11,
   "metadata": {
    "collapsed": true
   },
   "outputs": [],
   "source": [
    "##############################\n",
    "## Build the Neural Network ##\n",
    "##############################\n",
    "\n",
    "\n",
    "# Remove previous weights, bias, inputs, etc..\n",
    "#tf.reset_default_graph()\n",
    "\n",
    "correct_prediction = tf.equal(tf.argmax(logits, 1), tf.argmax(one_hot_y, 1))\n",
    "accuracy_operation = tf.reduce_mean(tf.cast(correct_prediction, tf.float32))\n",
    "softmax=tf.nn.softmax(logits)\n",
    "prediction=tf.argmax(logits,1)\n",
    "saver = tf.train.Saver()\n",
    "\n",
    "def evaluate(X_data, y_data):\n",
    "    num_examples = len(X_data)\n",
    "    total_accuracy = 0\n",
    "    total_loss = 0\n",
    "    pred = []\n",
    "    sess = tf.get_default_session()\n",
    "    for offset in range(0, num_examples, BATCH_SIZE):\n",
    "        batch_x, batch_y = X_data[offset:offset+BATCH_SIZE], y_data[offset:offset+BATCH_SIZE]\n",
    "        accuracy = sess.run(accuracy_operation, feed_dict={x: batch_x, y: batch_y})\n",
    "        loss = sess.run(loss_operation, feed_dict={x: batch_x, y: batch_y})\n",
    "        predictions = sess.run(prediction, feed_dict={x: batch_x, y: batch_y})\n",
    "        pred.append(predictions)\n",
    "        total_accuracy += (accuracy * len(batch_x))\n",
    "        total_loss += (loss * len(batch_x)) \n",
    "    return total_accuracy / num_examples, pred, total_loss / num_examples"
   ]
  },
  {
   "cell_type": "code",
   "execution_count": 12,
   "metadata": {},
   "outputs": [
    {
     "name": "stdout",
     "output_type": "stream",
     "text": [
      "Training...\n",
      "\n",
      "EPOCH 1 ...\n",
      "Training Accuracy = 0.543\n",
      "Validation Accuracy = 0.477\n",
      "\n",
      "EPOCH 2 ...\n",
      "Training Accuracy = 0.778\n",
      "Validation Accuracy = 0.721\n",
      "\n",
      "EPOCH 3 ...\n",
      "Training Accuracy = 0.855\n",
      "Validation Accuracy = 0.791\n",
      "\n",
      "EPOCH 4 ...\n",
      "Training Accuracy = 0.895\n",
      "Validation Accuracy = 0.830\n",
      "\n",
      "EPOCH 5 ...\n",
      "Training Accuracy = 0.910\n",
      "Validation Accuracy = 0.838\n",
      "\n",
      "EPOCH 6 ...\n",
      "Training Accuracy = 0.929\n",
      "Validation Accuracy = 0.865\n",
      "\n",
      "EPOCH 7 ...\n",
      "Training Accuracy = 0.941\n",
      "Validation Accuracy = 0.874\n",
      "\n",
      "EPOCH 8 ...\n",
      "Training Accuracy = 0.948\n",
      "Validation Accuracy = 0.892\n",
      "\n",
      "EPOCH 9 ...\n",
      "Training Accuracy = 0.955\n",
      "Validation Accuracy = 0.892\n",
      "\n",
      "EPOCH 10 ...\n",
      "Training Accuracy = 0.962\n",
      "Validation Accuracy = 0.904\n",
      "\n",
      "EPOCH 11 ...\n",
      "Training Accuracy = 0.964\n",
      "Validation Accuracy = 0.905\n",
      "\n",
      "EPOCH 12 ...\n",
      "Training Accuracy = 0.965\n",
      "Validation Accuracy = 0.897\n",
      "\n",
      "EPOCH 13 ...\n",
      "Training Accuracy = 0.970\n",
      "Validation Accuracy = 0.908\n",
      "\n",
      "EPOCH 14 ...\n",
      "Training Accuracy = 0.973\n",
      "Validation Accuracy = 0.907\n",
      "\n",
      "EPOCH 15 ...\n",
      "Training Accuracy = 0.974\n",
      "Validation Accuracy = 0.917\n",
      "\n",
      "EPOCH 16 ...\n",
      "Training Accuracy = 0.975\n",
      "Validation Accuracy = 0.915\n",
      "\n",
      "EPOCH 17 ...\n",
      "Training Accuracy = 0.977\n",
      "Validation Accuracy = 0.915\n",
      "\n",
      "EPOCH 18 ...\n",
      "Training Accuracy = 0.979\n",
      "Validation Accuracy = 0.919\n",
      "\n",
      "EPOCH 19 ...\n",
      "Training Accuracy = 0.981\n",
      "Validation Accuracy = 0.923\n",
      "\n",
      "EPOCH 20 ...\n",
      "Training Accuracy = 0.981\n",
      "Validation Accuracy = 0.918\n",
      "\n",
      "EPOCH 21 ...\n",
      "Training Accuracy = 0.980\n",
      "Validation Accuracy = 0.927\n",
      "\n",
      "EPOCH 22 ...\n",
      "Training Accuracy = 0.983\n",
      "Validation Accuracy = 0.926\n",
      "\n",
      "EPOCH 23 ...\n",
      "Training Accuracy = 0.982\n",
      "Validation Accuracy = 0.924\n",
      "\n",
      "EPOCH 24 ...\n",
      "Training Accuracy = 0.984\n",
      "Validation Accuracy = 0.923\n",
      "\n",
      "EPOCH 25 ...\n",
      "Training Accuracy = 0.985\n",
      "Validation Accuracy = 0.925\n",
      "\n",
      "EPOCH 26 ...\n",
      "Training Accuracy = 0.987\n",
      "Validation Accuracy = 0.932\n",
      "\n",
      "EPOCH 27 ...\n",
      "Training Accuracy = 0.985\n",
      "Validation Accuracy = 0.928\n",
      "\n",
      "EPOCH 28 ...\n",
      "Training Accuracy = 0.986\n",
      "Validation Accuracy = 0.929\n",
      "\n",
      "EPOCH 29 ...\n",
      "Training Accuracy = 0.988\n",
      "Validation Accuracy = 0.931\n",
      "\n",
      "EPOCH 30 ...\n",
      "Training Accuracy = 0.987\n",
      "Validation Accuracy = 0.938\n",
      "\n",
      "EPOCH 31 ...\n",
      "Training Accuracy = 0.988\n",
      "Validation Accuracy = 0.938\n",
      "\n",
      "EPOCH 32 ...\n",
      "Training Accuracy = 0.986\n",
      "Validation Accuracy = 0.937\n",
      "\n",
      "EPOCH 33 ...\n",
      "Training Accuracy = 0.988\n",
      "Validation Accuracy = 0.934\n",
      "\n",
      "EPOCH 34 ...\n",
      "Training Accuracy = 0.989\n",
      "Validation Accuracy = 0.931\n",
      "\n",
      "EPOCH 35 ...\n",
      "Training Accuracy = 0.987\n",
      "Validation Accuracy = 0.932\n",
      "\n",
      "EPOCH 36 ...\n",
      "Training Accuracy = 0.989\n",
      "Validation Accuracy = 0.938\n",
      "\n",
      "EPOCH 37 ...\n",
      "Training Accuracy = 0.991\n",
      "Validation Accuracy = 0.936\n",
      "\n",
      "EPOCH 38 ...\n",
      "Training Accuracy = 0.989\n",
      "Validation Accuracy = 0.934\n",
      "\n",
      "EPOCH 39 ...\n",
      "Training Accuracy = 0.990\n",
      "Validation Accuracy = 0.938\n",
      "\n",
      "EPOCH 40 ...\n",
      "Training Accuracy = 0.991\n",
      "Validation Accuracy = 0.937\n",
      "\n",
      "EPOCH 41 ...\n",
      "Training Accuracy = 0.990\n",
      "Validation Accuracy = 0.939\n",
      "\n",
      "EPOCH 42 ...\n",
      "Training Accuracy = 0.991\n",
      "Validation Accuracy = 0.941\n",
      "\n",
      "EPOCH 43 ...\n",
      "Training Accuracy = 0.992\n",
      "Validation Accuracy = 0.942\n",
      "\n",
      "EPOCH 44 ...\n",
      "Training Accuracy = 0.992\n",
      "Validation Accuracy = 0.934\n",
      "\n",
      "EPOCH 45 ...\n",
      "Training Accuracy = 0.992\n",
      "Validation Accuracy = 0.944\n",
      "\n",
      "EPOCH 46 ...\n",
      "Training Accuracy = 0.992\n",
      "Validation Accuracy = 0.936\n",
      "\n",
      "EPOCH 47 ...\n",
      "Training Accuracy = 0.990\n",
      "Validation Accuracy = 0.931\n",
      "\n",
      "EPOCH 48 ...\n",
      "Training Accuracy = 0.993\n",
      "Validation Accuracy = 0.939\n",
      "\n",
      "EPOCH 49 ...\n",
      "Training Accuracy = 0.991\n",
      "Validation Accuracy = 0.940\n",
      "\n",
      "EPOCH 50 ...\n",
      "Training Accuracy = 0.992\n",
      "Validation Accuracy = 0.942\n",
      "\n",
      "Model saved\n"
     ]
    }
   ],
   "source": [
    "EPOCHS = 50\n",
    "BATCH_SIZE = 256\n",
    "\n",
    "val_accuracy = []\n",
    "train_accuracy = []\n",
    "val_loss =[]\n",
    "train_loss = []\n",
    "\n",
    "num_examples = len(train_features)\n",
    "\n",
    "from sklearn.utils import shuffle\n",
    "\n",
    "with tf.Session() as sess:\n",
    "    sess.run(tf.global_variables_initializer())\n",
    "\n",
    "    \n",
    "    print(\"Training...\")\n",
    "    print()\n",
    "    for i in range(EPOCHS):\n",
    "        Xx_train, yy_train = shuffle(train_features, train_labels)\n",
    "        for offset in range(0, num_examples, BATCH_SIZE):\n",
    "            end = offset + BATCH_SIZE\n",
    "            batch_x, batch_y = Xx_train[offset:end], yy_train[offset:end]\n",
    "            sess.run(training_operation, feed_dict={x: batch_x, y: batch_y})\n",
    "            \n",
    "        validation_accuracy,  _ , validation_loss = evaluate(valid_features,valid_labels)\n",
    "        training_accuracy, _, training_loss = evaluate(train_features,train_labels)\n",
    "        val_accuracy.append(validation_accuracy)\n",
    "        val_loss.append(validation_loss)\n",
    "        train_accuracy.append(training_accuracy)\n",
    "        train_loss.append(training_loss)\n",
    "        print(\"EPOCH {} ...\".format(i+1))\n",
    "        print(\"Training Accuracy = {:.3f}\".format(training_accuracy))\n",
    "        print(\"Validation Accuracy = {:.3f}\".format(validation_accuracy))\n",
    "        print()\n",
    "    saver.save(sess, './lenet')\n",
    "    print(\"Model saved\")"
   ]
  },
  {
   "cell_type": "code",
   "execution_count": 13,
   "metadata": {},
   "outputs": [
    {
     "data": {
      "text/plain": [
       "<matplotlib.legend.Legend at 0x7f494f7e0a90>"
      ]
     },
     "execution_count": 13,
     "metadata": {},
     "output_type": "execute_result"
    },
    {
     "data": {
      "text/plain": [
       "<matplotlib.figure.Figure at 0x7f4954f31908>"
      ]
     },
     "metadata": {},
     "output_type": "display_data"
    },
    {
     "data": {
      "image/png": "[encoded data removed]",
      "text/plain": [
       "<matplotlib.figure.Figure at 0x7f4954cbc358>"
      ]
     },
     "metadata": {},
     "output_type": "display_data"
    }
   ],
   "source": [
    "# Plot training and validation loss and accuracies \n",
    "\n",
    "plt.figure(figsize=(20,10))\n",
    "fig = plt.figure()\n",
    "a=fig.add_subplot(121)\n",
    "line_one, = plt.plot(val_accuracy, label='Validation')\n",
    "line_two, = plt.plot(train_accuracy, label = 'Training')\n",
    "plt.ylabel('Accuracy values')\n",
    "plt.xlabel('No. of epochs')\n",
    "plt.legend(handles=[line_one, line_two])\n",
    "\n",
    "a=fig.add_subplot(122)\n",
    "line_one, = plt.plot(val_loss, label='Validation')\n",
    "line_two, = plt.plot(train_loss, label = 'Training')\n",
    "plt.ylabel('Loss values')\n",
    "plt.xlabel('No. of epochs')\n",
    "plt.legend(handles=[line_one, line_two])"
   ]
  },
  {
   "cell_type": "code",
   "execution_count": 14,
   "metadata": {},
   "outputs": [
    {
     "name": "stdout",
     "output_type": "stream",
     "text": [
      "INFO:tensorflow:Restoring parameters from ./lenet\n",
      "Training Accuracy = 0.993\n",
      "Validation Accuracy = 0.944\n",
      "Test Accuracy = 0.924\n"
     ]
    }
   ],
   "source": [
    "#accuracy\n",
    "with tf.Session() as sess:\n",
    "    saver.restore(sess, tf.train.latest_checkpoint('.'))\n",
    "    train_accuracy, _, train_loss = evaluate(train_features, train_labels)\n",
    "    valid_accuracy, _ , valid_loss = evaluate(valid_features, valid_labels)\n",
    "    test_accuracy, _, test_loss = evaluate(test_features, test_labels)\n",
    "    \n",
    "    print(\"Training Accuracy = {:.3f}\".format(train_accuracy))\n",
    "    print(\"Validation Accuracy = {:.3f}\".format(valid_accuracy))\n",
    "    print(\"Test Accuracy = {:.3f}\".format(test_accuracy))\n"
   ]
  },
  {
   "cell_type": "markdown",
   "metadata": {},
   "source": [
    "---\n",
    "\n",
    "## Step 3: Test a Model on New Images\n",
    "\n",
    "To give yourself more insight into how your model is working, download at least five pictures of German traffic signs from the web and use your model to predict the traffic sign type.\n",
    "\n",
    "You may find `signnames.csv` useful as it contains mappings from the class id (integer) to the actual sign name."
   ]
  },
  {
   "cell_type": "markdown",
   "metadata": {},
   "source": [
    "### Load and Output the Images"
   ]
  },
  {
   "cell_type": "code",
   "execution_count": 15,
   "metadata": {},
   "outputs": [
    {
     "name": "stdout",
     "output_type": "stream",
     "text": [
      "SHAPE = (32, 32, 3)\n",
      "SHAPE = (32, 32, 3)\n",
      "SHAPE = (32, 32, 3)\n",
      "SHAPE = (32, 32, 3)\n",
      "SHAPE = (32, 32, 3)\n",
      "Dataset shape: (5, 32, 32, 3)\n",
      "Target shape: (5,)\n",
      "Dataset Mean: 0.403287\n",
      "Dataset Standard deviation: 0.255429\n",
      "Dataset Max: 1.0\n",
      "Dataset Min: 0.0\n",
      "Target shape: (5,)\n"
     ]
    }
   ],
   "source": [
    "### Load the images and plot them here.\n",
    "### Feel free to use as many code cells as needed.\n",
    "import glob\n",
    "import os\n",
    "\n",
    "## Convert images to a dataset\n",
    "from scipy import ndimage\n",
    "# Path of downloaded images\n",
    "new_path = os.path.join(\"real_test_images/\",\"*.jpg\")\n",
    "image_size = 32\n",
    "pixel_depth = 255\n",
    "image_files = 5\n",
    "num_channels = 3\n",
    "dataset = np.ndarray(shape= (image_files, image_size, image_size, num_channels), dtype= np.float32)\n",
    "target = np.ndarray(shape= (image_files), dtype= np.int_)\n",
    "for filename in sorted(glob.glob(new_path)):                         \n",
    "    try: \n",
    "        image_data = (ndimage.imread(filename, flatten = False).astype(float))/pixel_depth \n",
    "        if image_data.shape != (image_size, image_size, num_channels):\n",
    "            raise Exception('Unexpected image shape: %s' % str(image_data.shape))\n",
    "        else:\n",
    "            print(\"SHAPE =\", image_data.shape )\n",
    "        imname = os.path.basename(filename)\n",
    "        name = int(imname.split(\".\")[0])\n",
    "        dataset[name, :, :, :] = image_data\n",
    "        target[name] = 0\n",
    "    except IOError as e:\n",
    "        print('Could not read:', filename, ':', e, '- it\\'s ok, skipping.')\n",
    "\n",
    "\n",
    "# Check Stats on the dataset\n",
    "print('Dataset shape:', dataset.shape)\n",
    "print('Target shape:', target.shape)\n",
    "print('Dataset Mean:', np.mean(dataset))\n",
    "print('Dataset Standard deviation:', np.std(dataset))\n",
    "print('Dataset Max:', np.amax(dataset))\n",
    "print('Dataset Min:', np.amin(dataset))\n",
    "print('Target shape:', target.shape)        \n"
   ]
  },
  {
   "cell_type": "markdown",
   "metadata": {},
   "source": [
    "### Predict the Sign Type for Each Image"
   ]
  },
  {
   "cell_type": "code",
   "execution_count": 16,
   "metadata": {},
   "outputs": [
    {
     "name": "stdout",
     "output_type": "stream",
     "text": [
      "INFO:tensorflow:Restoring parameters from ./lenet\n"
     ]
    }
   ],
   "source": [
    "### Run the predictions here and use the model to output the prediction for each image.\n",
    "### Make sure to pre-process the images with the same pre-processing pipeline used earlier.\n",
    "### Feel free to use as many code cells as needed.\n",
    "import tensorflow as tf\n",
    "saver = tf.train.import_meta_graph('lenet.meta')\n",
    "    \n",
    "#with tf.Session() as sess:    \n",
    "#    saver = tf.train.import_meta_graph('lenet.meta')\n",
    "#    saver.restore(sess,tf.train.latest_checkpoint('./'))\n",
    "    \n",
    "with tf.Session() as sess:\n",
    "    #ckpt = tf.train.get_checkpoint_state('./model/')\n",
    "    #saver.restore(session, ckpt.model_checkpoint_path)\n",
    "    saver = tf.train.import_meta_graph('lenet.meta')\n",
    "    saver.restore(sess,tf.train.latest_checkpoint('./'))\n",
    "    \n",
    "    test_accuracy, predme, _ = evaluate(dataset, target)\n",
    "    "
   ]
  },
  {
   "cell_type": "code",
   "execution_count": 18,
   "metadata": {},
   "outputs": [
    {
     "name": "stdout",
     "output_type": "stream",
     "text": [
      "[25 38  9 13 17]\n"
     ]
    },
    {
     "data": {
      "image/png": "[encoded data removed]",
      "text/plain": [
       "<matplotlib.figure.Figure at 0x7f49505b0080>"
      ]
     },
     "metadata": {},
     "output_type": "display_data"
    },
    {
     "data": {
      "image/png": "[encoded data removed]",
      "text/plain": [
       "<matplotlib.figure.Figure at 0x7f49ab7a3f28>"
      ]
     },
     "metadata": {},
     "output_type": "display_data"
    },
    {
     "data": {
      "image/png": "[encoded data removed]",
      "text/plain": [
       "<matplotlib.figure.Figure at 0x7f49ab307710>"
      ]
     },
     "metadata": {},
     "output_type": "display_data"
    },
    {
     "data": {
      "image/png": "[encoded data removed]",
      "text/plain": [
       "<matplotlib.figure.Figure at 0x7f494f964eb8>"
      ]
     },
     "metadata": {},
     "output_type": "display_data"
    },
    {
     "data": {
      "image/png": "[encoded data removed]",
      "text/plain": [
       "<matplotlib.figure.Figure at 0x7f4950602320>"
      ]
     },
     "metadata": {},
     "output_type": "display_data"
    }
   ],
   "source": [
    "# Display all web test images along with a sample from training set\n",
    "predicted = predme[0]\n",
    "\n",
    "for index in range(dataset.shape[0]):    \n",
    "    image = dataset[index].squeeze()\n",
    "    fig = plt.figure(figsize=(3,3))\n",
    "    \n",
    "    a=fig.add_subplot(121)\n",
    "    a.set_title(\"From web\")\n",
    "    plt.imshow(image) \n",
    "    k = predicted[index]\n",
    "    l = np.where(y_train == k)[0][200]\n",
    "    image = X_train[l].squeeze()\n",
    "    a=fig.add_subplot(122)\n",
    "    a.set_title(\"From training\")\n",
    "    plt.imshow(image)  \n",
    "    fig.tight_layout()\n",
    "    \n",
    "print(predme[0])   \n",
    "    "
   ]
  },
  {
   "cell_type": "markdown",
   "metadata": {},
   "source": [
    "### Analyze Performance"
   ]
  },
  {
   "cell_type": "code",
   "execution_count": 19,
   "metadata": {},
   "outputs": [
    {
     "name": "stdout",
     "output_type": "stream",
     "text": [
      "accuracy_on_new_images = 80.0%\n"
     ]
    }
   ],
   "source": [
    "### Calculate the accuracy for these 5 new images. \n",
    "### For example, if the model predicted 1 out of 5 signs correctly, it's 20% accurate on these new images.\n",
    "print('accuracy_on_new_images = {}%'.format(4/5*100))  "
   ]
  },
  {
   "cell_type": "markdown",
   "metadata": {},
   "source": [
    "### Output Top 5 Softmax Probabilities For Each Image Found on the Web"
   ]
  },
  {
   "cell_type": "markdown",
   "metadata": {},
   "source": [
    "For each of the new images, print out the model's softmax probabilities to show the **certainty** of the model's predictions (limit the output to the top 5 probabilities for each image). [`tf.nn.top_k`](https://www.tensorflow.org/versions/r0.12/api_docs/python/nn.html#top_k) could prove helpful here. \n",
    "\n",
    "The example below demonstrates how tf.nn.top_k can be used to find the top k predictions for each image.\n",
    "\n",
    "`tf.nn.top_k` will return the values and indices (class ids) of the top k predictions. So if k=3, for each sign, it'll return the 3 largest probabilities (out of a possible 43) and the correspoding class ids.\n",
    "\n",
    "Take this numpy array as an example. The values in the array represent predictions. The array contains softmax probabilities for five candidate images with six possible classes. `tf.nn.top_k` is used to choose the three classes with the highest probability:\n",
    "\n",
    "```\n",
    "# (5, 6) array\n",
    "a = np.array([[ 0.24879643,  0.07032244,  0.12641572,  0.34763842,  0.07893497,\n",
    "         0.12789202],\n",
    "       [ 0.28086119,  0.27569815,  0.08594638,  0.0178669 ,  0.18063401,\n",
    "         0.15899337],\n",
    "       [ 0.26076848,  0.23664738,  0.08020603,  0.07001922,  0.1134371 ,\n",
    "         0.23892179],\n",
    "       [ 0.11943333,  0.29198961,  0.02605103,  0.26234032,  0.1351348 ,\n",
    "         0.16505091],\n",
    "       [ 0.09561176,  0.34396535,  0.0643941 ,  0.16240774,  0.24206137,\n",
    "         0.09155967]])\n",
    "```\n",
    "\n",
    "Running it through `sess.run(tf.nn.top_k(tf.constant(a), k=3))` produces:\n",
    "\n",
    "```\n",
    "TopKV2(values=array([[ 0.34763842,  0.24879643,  0.12789202],\n",
    "       [ 0.28086119,  0.27569815,  0.18063401],\n",
    "       [ 0.26076848,  0.23892179,  0.23664738],\n",
    "       [ 0.29198961,  0.26234032,  0.16505091],\n",
    "       [ 0.34396535,  0.24206137,  0.16240774]]), indices=array([[3, 0, 5],\n",
    "       [0, 1, 4],\n",
    "       [0, 5, 1],\n",
    "       [1, 3, 5],\n",
    "       [1, 4, 3]], dtype=int32))\n",
    "```\n",
    "\n",
    "Looking just at the first row we get `[ 0.34763842,  0.24879643,  0.12789202]`, you can confirm these are the 3 largest probabilities in `a`. You'll also notice `[3, 0, 5]` are the corresponding indices."
   ]
  },
  {
   "cell_type": "code",
   "execution_count": 31,
   "metadata": {},
   "outputs": [
    {
     "name": "stdout",
     "output_type": "stream",
     "text": [
      "INFO:tensorflow:Restoring parameters from ./lenet\n",
      "[[  9.99984980e-01   8.24077688e-06   6.17672640e-06   3.38040707e-07\n",
      "    2.04148378e-07]\n",
      " [  1.07267350e-01   1.00996740e-01   9.47127491e-02   9.37116295e-02\n",
      "    8.00613612e-02]\n",
      " [  9.96696830e-01   3.22542386e-03   5.99624764e-05   9.89179352e-06\n",
      "    5.57928888e-06]\n",
      " [  9.99983549e-01   1.44031592e-05   1.26920463e-06   4.33284214e-07\n",
      "    2.52678234e-07]\n",
      " [  6.63006842e-01   1.22608088e-01   1.04241841e-01   3.30263972e-02\n",
      "    2.02031452e-02]]\n",
      "[[25 29 24 31 22]\n",
      " [38 36 32 11 25]\n",
      " [ 9 10 16 15 41]\n",
      " [13 34 32  3 38]\n",
      " [17 38  9 40 34]]\n"
     ]
    }
   ],
   "source": [
    "with tf.Session() as sess:\n",
    "    saver.restore(sess, tf.train.latest_checkpoint('.'))\n",
    "    probablities = tf.nn.softmax(logits)\n",
    "    predictions = sess.run(probablities,feed_dict = {x:dataset})\n",
    "    top5 = sess.run(tf.nn.top_k(tf.constant(predictions), k= 5))\n",
    "print(top5[0])\n",
    "print(top5[1])\n"
   ]
  },
  {
   "cell_type": "markdown",
   "metadata": {},
   "source": [
    "### Project Writeup\n",
    "\n",
    "Once you have completed the code implementation, document your results in a project writeup using this [template](https://github.com/udacity/CarND-Traffic-Sign-Classifier-Project/blob/master/writeup_template.md) as a guide. The writeup can be in a markdown or pdf file. "
   ]
  },
  {
   "cell_type": "markdown",
   "metadata": {},
   "source": [
    "> **Note**: Once you have completed all of the code implementations and successfully answered each question above, you may finalize your work by exporting the iPython Notebook as an HTML document. You can do this by using the menu above and navigating to  \\n\",\n",
    "    \"**File -> Download as -> HTML (.html)**. Include the finished document along with this notebook as your submission."
   ]
  },
  {
   "cell_type": "markdown",
   "metadata": {},
   "source": [
    "---\n",
    "\n",
    "## Step 4 (Optional): Visualize the Neural Network's State with Test Images\n",
    "\n",
    " This Section is not required to complete but acts as an additional excersise for understaning the output of a neural network's weights. While neural networks can be a great learning device they are often referred to as a black box. We can understand what the weights of a neural network look like better by plotting their feature maps. After successfully training your neural network you can see what it's feature maps look like by plotting the output of the network's weight layers in response to a test stimuli image. From these plotted feature maps, it's possible to see what characteristics of an image the network finds interesting. For a sign, maybe the inner network feature maps react with high activation to the sign's boundary outline or to the contrast in the sign's painted symbol.\n",
    "\n",
    " Provided for you below is the function code that allows you to get the visualization output of any tensorflow weight layer you want. The inputs to the function should be a stimuli image, one used during training or a new one you provided, and then the tensorflow variable name that represents the layer's state during the training process, for instance if you wanted to see what the [LeNet lab's](https://classroom.udacity.com/nanodegrees/nd013/parts/fbf77062-5703-404e-b60c-95b78b2f3f9e/modules/6df7ae49-c61c-4bb2-a23e-6527e69209ec/lessons/601ae704-1035-4287-8b11-e2c2716217ad/concepts/d4aca031-508f-4e0b-b493-e7b706120f81) feature maps looked like for it's second convolutional layer you could enter conv2 as the tf_activation variable.\n",
    "\n",
    "For an example of what feature map outputs look like, check out NVIDIA's results in their paper [End-to-End Deep Learning for Self-Driving Cars](https://devblogs.nvidia.com/parallelforall/deep-learning-self-driving-cars/) in the section Visualization of internal CNN State. NVIDIA was able to show that their network's inner weights had high activations to road boundary lines by comparing feature maps from an image with a clear path to one without. Try experimenting with a similar test to show that your trained network's weights are looking for interesting features, whether it's looking at differences in feature maps from images with or without a sign, or even what feature maps look like in a trained network vs a completely untrained one on the same sign image.\n",
    "\n",
    "<figure>\n",
    " <img src=\"visualize_cnn.png\" width=\"380\" alt=\"Combined Image\" />\n",
    " <figcaption>\n",
    " <p></p> \n",
    " <p style=\"text-align: center;\"> Your output should look something like this (above)</p> \n",
    " </figcaption>\n",
    "</figure>\n",
    " <p></p> \n"
   ]
  },
  {
   "cell_type": "code",
   "execution_count": null,
   "metadata": {
    "collapsed": true
   },
   "outputs": [],
   "source": [
    "### Visualize your network's feature maps here.\n",
    "### Feel free to use as many code cells as needed.\n",
    "\n",
    "# image_input: the test image being fed into the network to produce the feature maps\n",
    "# tf_activation: should be a tf variable name used during your training procedure that represents the calculated state of a specific weight layer\n",
    "# activation_min/max: can be used to view the activation contrast in more detail, by default matplot sets min and max to the actual min and max values of the output\n",
    "# plt_num: used to plot out multiple different weight feature map sets on the same block, just extend the plt number for each new feature map entry\n",
    "\n",
    "def outputFeatureMap(image_input, tf_activation, activation_min=-1, activation_max=-1 ,plt_num=1):\n",
    "    # Here make sure to preprocess your image_input in a way your network expects\n",
    "    # with size, normalization, ect if needed\n",
    "    # image_input =\n",
    "    # Note: x should be the same name as your network's tensorflow data placeholder variable\n",
    "    # If you get an error tf_activation is not defined it may be having trouble accessing the variable from inside a function\n",
    "    activation = tf_activation.eval(session=sess,feed_dict={x : image_input})\n",
    "    featuremaps = activation.shape[3]\n",
    "    plt.figure(plt_num, figsize=(15,15))\n",
    "    for featuremap in range(featuremaps):\n",
    "        plt.subplot(6,8, featuremap+1) # sets the number of feature maps to show on each row and column\n",
    "        plt.title('FeatureMap ' + str(featuremap)) # displays the feature map number\n",
    "        if activation_min != -1 & activation_max != -1:\n",
    "            plt.imshow(activation[0,:,:, featuremap], interpolation=\"nearest\", vmin =activation_min, vmax=activation_max, cmap=\"gray\")\n",
    "        elif activation_max != -1:\n",
    "            plt.imshow(activation[0,:,:, featuremap], interpolation=\"nearest\", vmax=activation_max, cmap=\"gray\")\n",
    "        elif activation_min !=-1:\n",
    "            plt.imshow(activation[0,:,:, featuremap], interpolation=\"nearest\", vmin=activation_min, cmap=\"gray\")\n",
    "        else:\n",
    "            plt.imshow(activation[0,:,:, featuremap], interpolation=\"nearest\", cmap=\"gray\")"
   ]
  }
 ],
 "metadata": {
  "anaconda-cloud": {},
  "kernelspec": {
   "display_name": "Python 3",
   "language": "python",
   "name": "python3"
  },
  "language_info": {
   "codemirror_mode": {
    "name": "ipython",
    "version": 3
   },
   "file_extension": ".py",
   "mimetype": "text/x-python",
   "name": "python",
   "nbconvert_exporter": "python",
   "pygments_lexer": "ipython3",
   "version": "3.6.2"
  }
 },
 "nbformat": 4,
 "nbformat_minor": 1
}
